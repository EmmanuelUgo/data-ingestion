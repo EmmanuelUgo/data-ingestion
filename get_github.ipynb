{
 "cells": [
  {
   "cell_type": "code",
   "execution_count": 1,
   "metadata": {},
   "outputs": [],
   "source": [
    "from github import Github\n",
    "import pandas as pd\n",
    "import psycopg2\n",
    "import psycopg2.extras"
   ]
  },
  {
   "cell_type": "markdown",
   "metadata": {},
   "source": [
    "Get Data From GitHub"
   ]
  },
  {
   "cell_type": "code",
   "execution_count": 9,
   "metadata": {},
   "outputs": [],
   "source": [
    "## Defining Search Parameters\n",
    "search_parameter = ['Machine Learning location:Lagos', 'Machine Learning location:Nigeria', 'Machine Learning location:Rwanda']"
   ]
  },
  {
   "cell_type": "code",
   "execution_count": 10,
   "metadata": {},
   "outputs": [],
   "source": [
    "def extract_user_info(search_parameter):\n",
    "\n",
    "    token =  # <- Add your github token\n",
    "    df_project = pd.DataFrame()\n",
    "\n",
    "    for project in search_parameter:\n",
    "        g = Github(token)\n",
    "        users = g.search_users(project)\n",
    "        for user in users:\n",
    "            print(\".\")\n",
    "            df_project = df_project.append({\n",
    "                'name': user.name,\n",
    "                'username': user.login,\n",
    "                'bio': user.bio,\n",
    "                'blog': user.blog,\n",
    "                'company': user.company,\n",
    "                'email': user.email,\n",
    "                'followers': user.followers,\n",
    "                'following': user.following,\n",
    "                'id' : user.id,\n",
    "                'url' : user.url,\n",
    "                'location' : user.location\n",
    "                }, ignore_index=True)\n",
    "                \n",
    "    #df_project.to_csv('project_dataset_2.csv', sep=',', encoding='utf-8', index=True)\n",
    "    return(df_project)"
   ]
  },
  {
   "cell_type": "code",
   "execution_count": null,
   "metadata": {},
   "outputs": [],
   "source": [
    "df = extract_user_info(search_parameter)"
   ]
  },
  {
   "cell_type": "code",
   "execution_count": 16,
   "metadata": {},
   "outputs": [
    {
     "data": {
      "text/plain": [
       "(477, 11)"
      ]
     },
     "execution_count": 16,
     "metadata": {},
     "output_type": "execute_result"
    }
   ],
   "source": [
    "df.shape"
   ]
  },
  {
   "cell_type": "markdown",
   "metadata": {},
   "source": [
    "Data Ingestion - PostgresSQL"
   ]
  },
  {
   "cell_type": "markdown",
   "metadata": {},
   "source": [
    "Saving PostgreSQL connection details"
   ]
  },
  {
   "cell_type": "code",
   "execution_count": 17,
   "metadata": {},
   "outputs": [],
   "source": [
    "hostname = 'localhost'\n",
    "database = 'data_ingest'\n",
    "username = 'postgres'\n",
    "pwd = 'haanuel'\n",
    "port_id = 5432"
   ]
  },
  {
   "cell_type": "markdown",
   "metadata": {},
   "source": [
    "Pipeline for Ingestion.\n",
    "- Connect to Postgres SQL DataBase\n",
    "- Create a table in the DB\n",
    "- Insert values to the table"
   ]
  },
  {
   "cell_type": "code",
   "execution_count": 19,
   "metadata": {},
   "outputs": [
    {
     "name": "stdout",
     "output_type": "stream",
     "text": [
      "Total records loaded:  [477]\n"
     ]
    }
   ],
   "source": [
    "con = None\n",
    "cur = None\n",
    "\n",
    "try:\n",
    "    with psycopg2.connect(\n",
    "        host = hostname,\n",
    "        dbname = database,\n",
    "        user = username,\n",
    "        password = pwd,\n",
    "        port = port_id ) as con:\n",
    "\n",
    "        with con.cursor(cursor_factory= psycopg2.extras.DictCursor) as cur:\n",
    "            \n",
    "            cur.execute('DROP TABLE IF EXISTS github_users')\n",
    "            \n",
    "            create_table = ''' CREATE TABLE IF NOT EXISTS github_users (\n",
    "                                name varchar(255),\n",
    "                                username varchar(255),\n",
    "                                bio varchar(255),\n",
    "                                blog varchar(255),\n",
    "                                company varchar(255),\n",
    "                                email varchar(255),\n",
    "                                followers int,\n",
    "                                following int,\n",
    "                                id varchar(255),\n",
    "                                url varchar(255),\n",
    "                                location varchar(255)) '''\n",
    "                                \n",
    "            cur.execute(create_table)\n",
    "            \n",
    "            insert_script = '''INSERT INTO github_users (name, username, bio, blog,\n",
    "                                                        company, email, followers,\n",
    "                                                        following, id, url, location) \n",
    "                                VALUES (%s, %s, %s, %s, %s, %s, %s, %s, %s, %s, %s) '''\n",
    "                                \n",
    "            insert_values = list(df.to_records(index = False))\n",
    "            \n",
    "            for record in insert_values:\n",
    "                cur.execute(insert_script, record)\n",
    "                \n",
    "            cur.execute('SELECT COUNT(*) FROM github_users')\n",
    "            \n",
    "            print('Total records loaded: ', cur.fetchall()[0])    \n",
    "except Exception as error:\n",
    "    print(error)\n",
    "finally:\n",
    "    if con is not None:\n",
    "            con.close()"
   ]
  }
 ],
 "metadata": {
  "interpreter": {
   "hash": "88dea5ee6d29d589ee7f1f3809b456f7b9e9350dd2c157ef442f76177668745b"
  },
  "kernelspec": {
   "display_name": "Python 3.7.11 64-bit ('myenv': conda)",
   "language": "python",
   "name": "python3"
  },
  "language_info": {
   "codemirror_mode": {
    "name": "ipython",
    "version": 3
   },
   "file_extension": ".py",
   "mimetype": "text/x-python",
   "name": "python",
   "nbconvert_exporter": "python",
   "pygments_lexer": "ipython3",
   "version": "3.7.11"
  },
  "orig_nbformat": 4
 },
 "nbformat": 4,
 "nbformat_minor": 2
}
